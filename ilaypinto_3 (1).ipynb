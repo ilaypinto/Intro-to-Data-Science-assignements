{
 "cells": [
  {
   "cell_type": "markdown",
   "id": "challenging-prague",
   "metadata": {},
   "source": [
    "נייבא ספריות "
   ]
  },
  {
   "cell_type": "code",
   "execution_count": 11,
   "id": "automated-consumption",
   "metadata": {},
   "outputs": [],
   "source": [
    "import numpy as np\n",
    "import pandas as pd\n",
    "import sklearn as sk\n",
    "import seaborn as sns\n",
    "from sklearn.cluster import AgglomerativeClustering\n",
    "import matplotlib.pyplot as plt\n",
    "import pickle as pkl"
   ]
  },
  {
   "cell_type": "markdown",
   "id": "miniature-standing",
   "metadata": {},
   "source": [
    "נפתח את קובץ המידע לבדיקות"
   ]
  },
  {
   "cell_type": "code",
   "execution_count": 12,
   "id": "bored-cookie",
   "metadata": {},
   "outputs": [],
   "source": [
    "with open('DigitalColposcopy.pkl', 'rb') as f:\n",
    "    data = pkl.load(f)"
   ]
  },
  {
   "cell_type": "markdown",
   "id": "environmental-revelation",
   "metadata": {},
   "source": [
    "ננרמל את המידע"
   ]
  },
  {
   "cell_type": "code",
   "execution_count": 13,
   "id": "continued-harmony",
   "metadata": {},
   "outputs": [],
   "source": [
    "data1=sk.preprocessing.StandardScaler().fit_transform(data[1])\n",
    "data2=sk.preprocessing.StandardScaler().fit_transform(data[2])"
   ]
  },
  {
   "cell_type": "markdown",
   "id": "theoretical-oakland",
   "metadata": {},
   "source": [
    "נגדיר הפונקציות שישמשו אותנו בחישובי הרגרסיה:"
   ]
  },
  {
   "cell_type": "code",
   "execution_count": 14,
   "id": "earned-estimate",
   "metadata": {},
   "outputs": [],
   "source": [
    "def sigmoid(z):\n",
    "    return 1/(1+np.exp(-z))\n",
    "\n",
    "def log_reg(data, labels, steps, lr, data2, labels2):\n",
    "    weights=np.zeros(data.shape[1])\n",
    "    acc=np.zeros(steps)\n",
    "    auc=np.zeros(steps)\n",
    "    b=0\n",
    "    for step in range(steps):\n",
    "        predictions=sigmoid(np.dot(data, weights)+b)\n",
    "        delta=predictions-labels\n",
    "        dw=np.dot(data.T,delta)\n",
    "        db=np.sum(delta)\n",
    "        weights-=lr*dw\n",
    "        b-=lr*db\n",
    "        Test=sigmoid((np.dot(data2,weights)+b))\n",
    "        print('for step',step+1,'accuracy is',100*sk.metrics.accuracy_score(labels2,np.where(Test>0.5,1,0)),'percent, and area under the curve is',\n",
    "             sk.metrics.roc_auc_score(labels2,np.where(Test>0.5,1,0)))\n",
    "        acc[step]=sk.metrics.accuracy_score(labels,np.where(predictions>0.5,1,0))\n",
    "        auc[step]=sk.metrics.roc_auc_score(labels,np.where(predictions>0.5,1,0))\n",
    "    return None\n",
    "#to returen any of the calculations for the last instance, put [acc,auc,weights,b, predictions] instead of None in last line\n",
    "#in the task instructions i was asked to print every step, and not necesserily to return anything from the function\n",
    "#למשתמש: במידה ואתה מעוניין להחזיר אחד מהחישובים, במהלך פעולת הפונקציה, הכנס את הרשימה המתוארת למעלה במקום הביטוי נאן\n",
    "#בהוראות המטלה דובר על להדפיס כל שלב, ולוודא דווקא שהפונקציה תחזיר ערך כלשהו\n",
    "        "
   ]
  },
  {
   "cell_type": "markdown",
   "id": "hollow-imaging",
   "metadata": {},
   "source": [
    "נדרוש הרגרסיה הרצויה"
   ]
  },
  {
   "cell_type": "code",
   "execution_count": 15,
   "id": "lesbian-newsletter",
   "metadata": {},
   "outputs": [
    {
     "name": "stdout",
     "output_type": "stream",
     "text": [
      "for step 1 accuracy is 62.0 percent, and area under the curve is 0.6007905138339921\n",
      "for step 2 accuracy is 64.0 percent, and area under the curve is 0.6137775268210052\n",
      "for step 3 accuracy is 64.0 percent, and area under the curve is 0.5985319028797289\n",
      "for step 4 accuracy is 67.0 percent, and area under the curve is 0.6180124223602484\n",
      "for step 5 accuracy is 70.0 percent, and area under the curve is 0.637492941840768\n",
      "for step 6 accuracy is 74.0 percent, and area under the curve is 0.663466967814794\n",
      "for step 7 accuracy is 75.0 percent, and area under the curve is 0.6547148503670244\n",
      "for step 8 accuracy is 77.0 percent, and area under the curve is 0.6677018633540373\n",
      "for step 9 accuracy is 76.0 percent, and area under the curve is 0.6612083568605307\n",
      "for step 10 accuracy is 78.0 percent, and area under the curve is 0.6741953698475438\n",
      "for step 11 accuracy is 78.0 percent, and area under the curve is 0.6741953698475438\n",
      "for step 12 accuracy is 78.0 percent, and area under the curve is 0.6741953698475438\n",
      "for step 13 accuracy is 78.0 percent, and area under the curve is 0.6741953698475438\n",
      "for step 14 accuracy is 78.0 percent, and area under the curve is 0.6741953698475438\n",
      "for step 15 accuracy is 78.0 percent, and area under the curve is 0.6741953698475438\n",
      "for step 16 accuracy is 78.0 percent, and area under the curve is 0.6741953698475438\n",
      "for step 17 accuracy is 78.0 percent, and area under the curve is 0.6741953698475438\n",
      "for step 18 accuracy is 77.0 percent, and area under the curve is 0.6524562394127612\n",
      "for step 19 accuracy is 78.0 percent, and area under the curve is 0.6589497459062676\n",
      "for step 20 accuracy is 76.0 percent, and area under the curve is 0.6307171089779785\n"
     ]
    }
   ],
   "source": [
    "log_reg(data1,data[3],20,0.0007,data2,data[4])"
   ]
  },
  {
   "cell_type": "code",
   "execution_count": null,
   "id": "manufactured-hamburg",
   "metadata": {},
   "outputs": [],
   "source": []
  }
 ],
 "metadata": {
  "kernelspec": {
   "display_name": "Python 3",
   "language": "python",
   "name": "python3"
  },
  "language_info": {
   "codemirror_mode": {
    "name": "ipython",
    "version": 3
   },
   "file_extension": ".py",
   "mimetype": "text/x-python",
   "name": "python",
   "nbconvert_exporter": "python",
   "pygments_lexer": "ipython3",
   "version": "3.7.10"
  }
 },
 "nbformat": 4,
 "nbformat_minor": 5
}
