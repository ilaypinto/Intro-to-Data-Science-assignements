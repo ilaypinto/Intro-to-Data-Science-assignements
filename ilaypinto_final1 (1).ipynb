{
 "cells": [
  {
   "cell_type": "markdown",
   "id": "consistent-processing",
   "metadata": {},
   "source": [
    "Models used in code: neural networks, trees, gradient boosting.\n",
    "In the end, gradient boosting was used, as it gave best results."
   ]
  },
  {
   "cell_type": "code",
   "execution_count": null,
   "id": "young-original",
   "metadata": {},
   "outputs": [],
   "source": [
    "import numpy as np\n",
    "import pandas as pd\n",
    "import sklearn as sk\n",
    "import matplotlib.pyplot as plt\n",
    "from sklearn.datasets import make_classification\n",
    "from sklearn.model_selection import train_test_split\n",
    "from sklearn import metrics\n",
    "from sklearn.experimental import enable_hist_gradient_boosting\n",
    "from sklearn.ensemble import HistGradientBoostingClassifier\n",
    "from xgboost import XGBClassifier"
   ]
  },
  {
   "cell_type": "code",
   "execution_count": null,
   "id": "cultural-bulgaria",
   "metadata": {},
   "outputs": [],
   "source": [
    "def loadfile(name):\n",
    "    with open(name) as f:\n",
    "        data = pd.read_csv(f, delimiter=\",\", dtype={\"Id\": str})\n",
    "    labels = data[\"label\"].values\n",
    "    Ids = data[\"Id\"].values\n",
    "    data.drop(labels = [\"Id\", \"label\"], axis=1, inplace = True)\n",
    "    features = data.values\n",
    "    return (features, labels, Ids)"
   ]
  },
  {
   "cell_type": "code",
   "execution_count": null,
   "id": "considered-theorem",
   "metadata": {},
   "outputs": [],
   "source": [
    "train, train_labels, train_Ids = loadfile(\"train.csv\")\n",
    "test, test_labels, test_Ids = loadfile(\"test.csv\")"
   ]
  },
  {
   "cell_type": "markdown",
   "id": "commercial-creature",
   "metadata": {},
   "source": [
    "Data was sliced here to crate a validation set."
   ]
  },
  {
   "cell_type": "code",
   "execution_count": null,
   "id": "varying-basket",
   "metadata": {},
   "outputs": [],
   "source": [
    "xtrain,xtest,ytrain,ytest=train_test_split(train,train_labels,test_size=0.1, random_state=1, shuffle=True)"
   ]
  },
  {
   "cell_type": "markdown",
   "id": "affecting-soldier",
   "metadata": {},
   "source": [
    "Defining the classifier takes a bit of time, so grab a coffee!"
   ]
  },
  {
   "cell_type": "code",
   "execution_count": null,
   "id": "actual-cancellation",
   "metadata": {},
   "outputs": [],
   "source": [
    "clf = XGBClassifier(objective='binary:logistic',random_state=40)\n",
    "clf.fit(train, train_labels)"
   ]
  },
  {
   "cell_type": "markdown",
   "id": "acknowledged-cylinder",
   "metadata": {},
   "source": [
    "Here, validation set was tested, by auc and score.\n",
    "As you can see, only score remained, as auc didn't work for gradient boosting for an unknown reason.\n",
    "Best result in kaggle was given by using the whole data set, therefore, if you want to have the next line of code to have\n",
    "meaning, use xtrain and ytrain instead of train, train_labels while fitting."
   ]
  },
  {
   "cell_type": "code",
   "execution_count": null,
   "id": "electoral-dance",
   "metadata": {},
   "outputs": [],
   "source": [
    "print(clf.score(xtest,ytest))"
   ]
  },
  {
   "cell_type": "code",
   "execution_count": null,
   "id": "potential-treat",
   "metadata": {},
   "outputs": [],
   "source": [
    "def create_submission_file(filename, model, test_data, Ids):\n",
    "    predictions = model.predict_proba(test_data)[:,1]\n",
    "    my_submission = pd.DataFrame({'Id': Ids, 'prediction': predictions})\n",
    "    my_submission.to_csv(filename, index=False)\n",
    "\n",
    "create_submission_file(\"mysubmission-1NN.csv\", clf, test, test_Ids)"
   ]
  }
 ],
 "metadata": {
  "kernelspec": {
   "display_name": "Python 3",
   "language": "python",
   "name": "python3"
  },
  "language_info": {
   "codemirror_mode": {
    "name": "ipython",
    "version": 3
   },
   "file_extension": ".py",
   "mimetype": "text/x-python",
   "name": "python",
   "nbconvert_exporter": "python",
   "pygments_lexer": "ipython3",
   "version": "3.7.10"
  }
 },
 "nbformat": 4,
 "nbformat_minor": 5
}
