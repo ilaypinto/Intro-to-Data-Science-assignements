{
 "cells": [
  {
   "cell_type": "markdown",
   "id": "forward-section",
   "metadata": {},
   "source": [
    "ראשית, נייבא את חבילת ג'ייסון ונעלה את קובץ המידע,בנוסף לחבילת מאטפלוטליב, לשימוש בגרף אח\"כ"
   ]
  },
  {
   "cell_type": "code",
   "execution_count": null,
   "id": "dental-motion",
   "metadata": {},
   "outputs": [],
   "source": [
    "import matplotlib.pyplot as plt\n",
    "import numpy as np\n",
    "import json\n",
    "with open('myactivity.json') as json_file:\n",
    "    Act = json.load(json_file)"
   ]
  },
  {
   "cell_type": "markdown",
   "id": "median-craps",
   "metadata": {},
   "source": [
    "ניצור לולאה, הלוקחת את המפתח הרלוונטי מכל מילון בקובץ, ומכניס אותו למילון חדש, כך שהוא סופר את מספר הפעמים שמופיע המפתח הזה בכל הקובץ"
   ]
  },
  {
   "cell_type": "code",
   "execution_count": null,
   "id": "endless-athens",
   "metadata": {},
   "outputs": [],
   "source": [
    "Graph_data={}\n",
    "for i in range(len(Act)):\n",
    "    if Act[i]['title'] not in Graph_data.keys():\n",
    "        Graph_data[Act[i]['title']]=1\n",
    "    if Act[i]['title'] in Graph_data.keys():\n",
    "        Graph_data[Act[i]['title']]+=1\n",
    "        "
   ]
  },
  {
   "cell_type": "markdown",
   "id": "expected-ottawa",
   "metadata": {},
   "source": [
    "נגדיר מילון חדש עם אותם מפתחות וערכים, אך מסודר לפי גודל ערכים יורד:"
   ]
  },
  {
   "cell_type": "code",
   "execution_count": null,
   "id": "turned-strike",
   "metadata": {},
   "outputs": [],
   "source": [
    "GD=sorted(Graph_data, key=Graph_data.get, reverse=True)\n",
    "Sorted_GD={}\n",
    "for index in GD:\n",
    "    Sorted_GD[index] = Graph_data[index]"
   ]
  },
  {
   "cell_type": "markdown",
   "id": "important-renewal",
   "metadata": {},
   "source": [
    "נגדיר צירים, ונדרוש את הגרף הרצוי"
   ]
  },
  {
   "cell_type": "code",
   "execution_count": null,
   "id": "legitimate-commander",
   "metadata": {},
   "outputs": [],
   "source": [
    "y=list(Sorted_GD.values())\n",
    "x=range(1,len(y)+1)\n",
    "plt.ylabel('No. of Queries')\n",
    "plt.xlabel('Rank')\n",
    "plt.loglog(x,y)\n",
    "plt.show()"
   ]
  },
  {
   "cell_type": "markdown",
   "id": "hollywood-press",
   "metadata": {},
   "source": [
    "נגדיר רשימה, המכילה את השנים הרלוונטיות, ומספר הפעמים של החיפוש בכל שנה למעשה מספר הפעמים שהשנה מופיעה ברשימה"
   ]
  },
  {
   "cell_type": "code",
   "execution_count": null,
   "id": "crazy-projector",
   "metadata": {},
   "outputs": [],
   "source": [
    "Year_list=[]\n",
    "for i in range(len(Act)):\n",
    "    Year_list.append(int(Act[i]['time'][0:4]))"
   ]
  },
  {
   "cell_type": "markdown",
   "id": "duplicate-torture",
   "metadata": {},
   "source": [
    "נגדיר צירים, ונדרוש את ההיסטוגרמה הרצויה"
   ]
  },
  {
   "cell_type": "code",
   "execution_count": null,
   "id": "imported-modification",
   "metadata": {},
   "outputs": [],
   "source": [
    "plt.ylabel('No. of Queries')\n",
    "plt.xlabel('Year')\n",
    "plt.hist(Year_list)\n",
    "plt.show()"
   ]
  }
 ],
 "metadata": {
  "kernelspec": {
   "display_name": "Python 3",
   "language": "python",
   "name": "python3"
  },
  "language_info": {
   "codemirror_mode": {
    "name": "ipython",
    "version": 3
   },
   "file_extension": ".py",
   "mimetype": "text/x-python",
   "name": "python",
   "nbconvert_exporter": "python",
   "pygments_lexer": "ipython3",
   "version": "3.7.10"
  }
 },
 "nbformat": 4,
 "nbformat_minor": 5
}
