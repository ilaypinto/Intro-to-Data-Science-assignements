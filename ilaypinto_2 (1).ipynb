{
 "cells": [
  {
   "cell_type": "markdown",
   "id": "hairy-counter",
   "metadata": {},
   "source": [
    "נייבא את הספריות הרלוונטיות למשימה"
   ]
  },
  {
   "cell_type": "code",
   "execution_count": null,
   "id": "running-bhutan",
   "metadata": {},
   "outputs": [],
   "source": [
    "import numpy as np\n",
    "import pandas as pd\n",
    "import sklearn as sk\n",
    "import seaborn as sns\n",
    "from sklearn.cluster import AgglomerativeClustering\n",
    "import matplotlib.pyplot as plt"
   ]
  },
  {
   "cell_type": "markdown",
   "id": "exciting-beginning",
   "metadata": {},
   "source": [
    "נייבא את קובץ המידע שלנו"
   "https://v15.proteinatlas.org/about/download
"and unzip it"
   ]
  },
  {
   "cell_type": "code",
   "execution_count": null,
   "id": "cloudy-armenia",
   "metadata": {},
   "outputs": [],
   "source": [
    "base_data=pd.read_csv(\"rna_tissue.csv\")\n",
    "my_matrix=base_data.pivot(index=\"Gene\", columns=\"Sample\", values=\"Value\")"
   ]
  },
  {
   "cell_type": "markdown",
   "id": "dramatic-cooler",
   "metadata": {},
   "source": [
    "נראה את מפת החום הראשונה, עבור הקורולציה של המידע הנתון"
   ]
  },
  {
   "cell_type": "code",
   "execution_count": null,
   "id": "typical-analyst",
   "metadata": {},
   "outputs": [],
   "source": [
    "sns.set(font_scale = 0.6)\n",
    "sns.heatmap(my_matrix.corr(),xticklabels=my_matrix.corr().index, yticklabels=my_matrix.corr().columns)\n",
    "sns.set(font_scale = 1)\n",
    "plt.title(\"Gene/Tissue Values Corrolation\")\n",
    "plt.xlabel(\"Tissue Type\")\n",
    "plt.ylabel(\"Tissue Type\")\n",
    "plt.show()"
   ]
  },
  {
   "cell_type": "markdown",
   "id": "still-teacher",
   "metadata": {},
   "source": [
    "נבצע קלאסטרינג למידע, ונסדר את מטריצת הקורולציה לפי הוקטור שהתקבלת בציר המאוזן, ונקבל את מפת החום הבאה:"
   ]
  },
  {
   "cell_type": "code",
   "execution_count": null,
   "id": "thousand-lindsay",
   "metadata": {},
   "outputs": [],
   "source": [
    "clustering=sk.cluster.AgglomerativeClustering().fit(my_matrix.corr())\n",
    "cluster_list=np.argsort(clustering.labels_)\n",
    "x=my_matrix.corr().index[cluster_list]\n",
    "sns.set(font_scale = 0.6)\n",
    "sns.heatmap(my_matrix.corr()[x],xticklabels=my_matrix.corr()[x].columns, yticklabels=my_matrix.corr()[x].index)\n",
    "sns.set(font_scale = 1)\n",
    "plt.title(\"Gene/Tissue Values Corrolation\")\n",
    "plt.xlabel(\"Tissue Type(sorted by Clusters)\")\n",
    "plt.ylabel(\"Tissue Type\")\n",
    "plt.show()"
   ]
  },
  {
   "cell_type": "markdown",
   "id": "smart-wrong",
   "metadata": {},
   "source": [
    "נבצע את הסידור על פי הקלאסטר על המידע הנתון ולא על הקורולציה, כדי שלאחר מכן הקורולציה תתבצע על ציר המאונך, ובכך למעשה סידרנו גם את הציר המאונך וגם את המאוזן:"
   ]
  },
  {
   "cell_type": "code",
   "execution_count": null,
   "id": "honest-fairy",
   "metadata": {},
   "outputs": [],
   "source": [
    "matrix2=my_matrix[x]\n",
    "sns.set(font_scale = 0.6)\n",
    "sns.heatmap(matrix2.corr(),xticklabels=matrix2.corr().index, yticklabels=matrix2.corr().columns)\n",
    "sns.set(font_scale = 1)\n",
    "plt.title(\"Gene/Tissue Values Corrolation\")\n",
    "plt.xlabel(\"Tissue Type(sorted by Clusters)\")\n",
    "plt.ylabel(\"Tissue Type(sorted by Clusters)\")\n",
    "plt.show()"
   ]
  },
  {
   "cell_type": "markdown",
   "id": "natural-ottawa",
   "metadata": {},
   "source": [
    "נבצע את אותו התהליך בדיוק כמו לעיל, כך שהפעם, מספר הקלאסטרים שונה ל-20:"
   ]
  },
  {
   "cell_type": "code",
   "execution_count": null,
   "id": "focal-massage",
   "metadata": {},
   "outputs": [],
   "source": [
    "clustering=sk.cluster.AgglomerativeClustering(n_clusters=20).fit(my_matrix.corr())\n",
    "cluster_list=np.argsort(clustering.labels_)\n",
    "x=my_matrix.corr().index[cluster_list]\n",
    "sns.set(font_scale = 0.6)\n",
    "sns.heatmap(my_matrix.corr()[x],xticklabels=my_matrix.corr()[x].columns, yticklabels=my_matrix.corr()[x].index)\n",
    "sns.set(font_scale = 1)\n",
    "plt.title(\"Gene/Tissue Values Corrolation\")\n",
    "plt.xlabel(\"Tissue Type(sorted by Clusters)\")\n",
    "plt.ylabel(\"Tissue Type\")\n",
    "plt.show()\n",
    "matrix2=my_matrix[x]\n",
    "sns.set(font_scale = 0.6)\n",
    "sns.heatmap(matrix2.corr(),xticklabels=matrix2.corr().index, yticklabels=matrix2.corr().columns)\n",
    "sns.set(font_scale = 1)\n",
    "plt.title(\"Gene/Tissue Values Corrolation\")\n",
    "plt.xlabel(\"Tissue Type(sorted by Clusters)\")\n",
    "plt.ylabel(\"Tissue Type(sorted by Clusters)\")\n",
    "plt.show()"
   ]
  }
 ],
 "metadata": {
  "kernelspec": {
   "display_name": "Python 3",
   "language": "python",
   "name": "python3"
  },
  "language_info": {
   "codemirror_mode": {
    "name": "ipython",
    "version": 3
   },
   "file_extension": ".py",
   "mimetype": "text/x-python",
   "name": "python",
   "nbconvert_exporter": "python",
   "pygments_lexer": "ipython3",
   "version": "3.7.10"
  }
 },
 "nbformat": 4,
 "nbformat_minor": 5
}
